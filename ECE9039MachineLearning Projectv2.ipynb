{
 "cells": [
  {
   "cell_type": "code",
   "execution_count": 100,
   "metadata": {},
   "outputs": [],
   "source": [
    "import numpy as np\n",
    "import pandas as pd\n",
    "import seaborn as sns\n",
    "import matplotlib.pyplot as plt \n",
    "import matplotlib.colors as mcolors\n",
    "import time\n",
    "import sys\n",
    "from sklearn.linear_model import SGDClassifier\n",
    "from sklearn.model_selection import train_test_split\n",
    "from sklearn.linear_model import LogisticRegression\n",
    "from sklearn.tree import DecisionTreeClassifier\n",
    "from sklearn.metrics import accuracy_score\n",
    "from sklearn.metrics import confusion_matrix\n",
    "from sklearn.metrics import roc_curve, auc\n",
    "from sklearn.metrics import mean_squared_error\n",
    "from sklearn.ensemble import RandomForestClassifier\n",
    "from sklearn.ensemble import ExtraTreesClassifier\n",
    "from sklearn import decomposition\n",
    "from sklearn.cluster import KMeans"
   ]
  },
  {
   "cell_type": "code",
   "execution_count": 101,
   "metadata": {},
   "outputs": [
    {
     "data": {
      "text/html": [
       "<div>\n",
       "<style scoped>\n",
       "    .dataframe tbody tr th:only-of-type {\n",
       "        vertical-align: middle;\n",
       "    }\n",
       "\n",
       "    .dataframe tbody tr th {\n",
       "        vertical-align: top;\n",
       "    }\n",
       "\n",
       "    .dataframe thead th {\n",
       "        text-align: right;\n",
       "    }\n",
       "</style>\n",
       "<table border=\"1\" class=\"dataframe\">\n",
       "  <thead>\n",
       "    <tr style=\"text-align: right;\">\n",
       "      <th></th>\n",
       "      <th>age</th>\n",
       "      <th>sex</th>\n",
       "      <th>cp</th>\n",
       "      <th>trestbps</th>\n",
       "      <th>chol</th>\n",
       "      <th>fbs</th>\n",
       "      <th>restecg</th>\n",
       "      <th>thalach</th>\n",
       "      <th>exang</th>\n",
       "      <th>oldpeak</th>\n",
       "      <th>slope</th>\n",
       "      <th>ca</th>\n",
       "      <th>thal</th>\n",
       "      <th>target</th>\n",
       "    </tr>\n",
       "  </thead>\n",
       "  <tbody>\n",
       "    <tr>\n",
       "      <td>count</td>\n",
       "      <td>303.000000</td>\n",
       "      <td>303.000000</td>\n",
       "      <td>303.000000</td>\n",
       "      <td>303.000000</td>\n",
       "      <td>303.000000</td>\n",
       "      <td>303.000000</td>\n",
       "      <td>303.000000</td>\n",
       "      <td>303.000000</td>\n",
       "      <td>303.000000</td>\n",
       "      <td>303.000000</td>\n",
       "      <td>303.000000</td>\n",
       "      <td>303.000000</td>\n",
       "      <td>303.000000</td>\n",
       "      <td>303.000000</td>\n",
       "    </tr>\n",
       "    <tr>\n",
       "      <td>mean</td>\n",
       "      <td>54.366337</td>\n",
       "      <td>0.683168</td>\n",
       "      <td>0.966997</td>\n",
       "      <td>131.623762</td>\n",
       "      <td>246.264026</td>\n",
       "      <td>0.148515</td>\n",
       "      <td>0.528053</td>\n",
       "      <td>149.646865</td>\n",
       "      <td>0.326733</td>\n",
       "      <td>1.039604</td>\n",
       "      <td>1.399340</td>\n",
       "      <td>0.729373</td>\n",
       "      <td>2.313531</td>\n",
       "      <td>0.544554</td>\n",
       "    </tr>\n",
       "    <tr>\n",
       "      <td>std</td>\n",
       "      <td>9.082101</td>\n",
       "      <td>0.466011</td>\n",
       "      <td>1.032052</td>\n",
       "      <td>17.538143</td>\n",
       "      <td>51.830751</td>\n",
       "      <td>0.356198</td>\n",
       "      <td>0.525860</td>\n",
       "      <td>22.905161</td>\n",
       "      <td>0.469794</td>\n",
       "      <td>1.161075</td>\n",
       "      <td>0.616226</td>\n",
       "      <td>1.022606</td>\n",
       "      <td>0.612277</td>\n",
       "      <td>0.498835</td>\n",
       "    </tr>\n",
       "    <tr>\n",
       "      <td>min</td>\n",
       "      <td>29.000000</td>\n",
       "      <td>0.000000</td>\n",
       "      <td>0.000000</td>\n",
       "      <td>94.000000</td>\n",
       "      <td>126.000000</td>\n",
       "      <td>0.000000</td>\n",
       "      <td>0.000000</td>\n",
       "      <td>71.000000</td>\n",
       "      <td>0.000000</td>\n",
       "      <td>0.000000</td>\n",
       "      <td>0.000000</td>\n",
       "      <td>0.000000</td>\n",
       "      <td>0.000000</td>\n",
       "      <td>0.000000</td>\n",
       "    </tr>\n",
       "    <tr>\n",
       "      <td>25%</td>\n",
       "      <td>47.500000</td>\n",
       "      <td>0.000000</td>\n",
       "      <td>0.000000</td>\n",
       "      <td>120.000000</td>\n",
       "      <td>211.000000</td>\n",
       "      <td>0.000000</td>\n",
       "      <td>0.000000</td>\n",
       "      <td>133.500000</td>\n",
       "      <td>0.000000</td>\n",
       "      <td>0.000000</td>\n",
       "      <td>1.000000</td>\n",
       "      <td>0.000000</td>\n",
       "      <td>2.000000</td>\n",
       "      <td>0.000000</td>\n",
       "    </tr>\n",
       "    <tr>\n",
       "      <td>50%</td>\n",
       "      <td>55.000000</td>\n",
       "      <td>1.000000</td>\n",
       "      <td>1.000000</td>\n",
       "      <td>130.000000</td>\n",
       "      <td>240.000000</td>\n",
       "      <td>0.000000</td>\n",
       "      <td>1.000000</td>\n",
       "      <td>153.000000</td>\n",
       "      <td>0.000000</td>\n",
       "      <td>0.800000</td>\n",
       "      <td>1.000000</td>\n",
       "      <td>0.000000</td>\n",
       "      <td>2.000000</td>\n",
       "      <td>1.000000</td>\n",
       "    </tr>\n",
       "    <tr>\n",
       "      <td>75%</td>\n",
       "      <td>61.000000</td>\n",
       "      <td>1.000000</td>\n",
       "      <td>2.000000</td>\n",
       "      <td>140.000000</td>\n",
       "      <td>274.500000</td>\n",
       "      <td>0.000000</td>\n",
       "      <td>1.000000</td>\n",
       "      <td>166.000000</td>\n",
       "      <td>1.000000</td>\n",
       "      <td>1.600000</td>\n",
       "      <td>2.000000</td>\n",
       "      <td>1.000000</td>\n",
       "      <td>3.000000</td>\n",
       "      <td>1.000000</td>\n",
       "    </tr>\n",
       "    <tr>\n",
       "      <td>max</td>\n",
       "      <td>77.000000</td>\n",
       "      <td>1.000000</td>\n",
       "      <td>3.000000</td>\n",
       "      <td>200.000000</td>\n",
       "      <td>564.000000</td>\n",
       "      <td>1.000000</td>\n",
       "      <td>2.000000</td>\n",
       "      <td>202.000000</td>\n",
       "      <td>1.000000</td>\n",
       "      <td>6.200000</td>\n",
       "      <td>2.000000</td>\n",
       "      <td>4.000000</td>\n",
       "      <td>3.000000</td>\n",
       "      <td>1.000000</td>\n",
       "    </tr>\n",
       "  </tbody>\n",
       "</table>\n",
       "</div>"
      ],
      "text/plain": [
       "              age         sex          cp    trestbps        chol         fbs  \\\n",
       "count  303.000000  303.000000  303.000000  303.000000  303.000000  303.000000   \n",
       "mean    54.366337    0.683168    0.966997  131.623762  246.264026    0.148515   \n",
       "std      9.082101    0.466011    1.032052   17.538143   51.830751    0.356198   \n",
       "min     29.000000    0.000000    0.000000   94.000000  126.000000    0.000000   \n",
       "25%     47.500000    0.000000    0.000000  120.000000  211.000000    0.000000   \n",
       "50%     55.000000    1.000000    1.000000  130.000000  240.000000    0.000000   \n",
       "75%     61.000000    1.000000    2.000000  140.000000  274.500000    0.000000   \n",
       "max     77.000000    1.000000    3.000000  200.000000  564.000000    1.000000   \n",
       "\n",
       "          restecg     thalach       exang     oldpeak       slope          ca  \\\n",
       "count  303.000000  303.000000  303.000000  303.000000  303.000000  303.000000   \n",
       "mean     0.528053  149.646865    0.326733    1.039604    1.399340    0.729373   \n",
       "std      0.525860   22.905161    0.469794    1.161075    0.616226    1.022606   \n",
       "min      0.000000   71.000000    0.000000    0.000000    0.000000    0.000000   \n",
       "25%      0.000000  133.500000    0.000000    0.000000    1.000000    0.000000   \n",
       "50%      1.000000  153.000000    0.000000    0.800000    1.000000    0.000000   \n",
       "75%      1.000000  166.000000    1.000000    1.600000    2.000000    1.000000   \n",
       "max      2.000000  202.000000    1.000000    6.200000    2.000000    4.000000   \n",
       "\n",
       "             thal      target  \n",
       "count  303.000000  303.000000  \n",
       "mean     2.313531    0.544554  \n",
       "std      0.612277    0.498835  \n",
       "min      0.000000    0.000000  \n",
       "25%      2.000000    0.000000  \n",
       "50%      2.000000    1.000000  \n",
       "75%      3.000000    1.000000  \n",
       "max      3.000000    1.000000  "
      ]
     },
     "execution_count": 101,
     "metadata": {},
     "output_type": "execute_result"
    }
   ],
   "source": [
    "ht = pd.read_csv('heart.csv')\n",
    "ht.head()\n",
    "ht.describe()"
   ]
  },
  {
   "cell_type": "code",
   "execution_count": 102,
   "metadata": {},
   "outputs": [
    {
     "data": {
      "image/png": "[encoded data removed]",
      "text/plain": [
       "<Figure size 432x288 with 1 Axes>"
      ]
     },
     "metadata": {
      "needs_background": "light"
     },
     "output_type": "display_data"
    },
    {
     "data": {
      "image/png": "[encoded data removed]",
      "text/plain": [
       "<Figure size 432x288 with 1 Axes>"
      ]
     },
     "metadata": {
      "needs_background": "light"
     },
     "output_type": "display_data"
    },
    {
     "data": {
      "image/png": "[encoded data removed]",
      "text/plain": [
       "<Figure size 432x288 with 1 Axes>"
      ]
     },
     "metadata": {
      "needs_background": "light"
     },
     "output_type": "display_data"
    },
    {
     "data": {
      "image/png": "[encoded data removed]",
      "text/plain": [
       "<Figure size 432x288 with 1 Axes>"
      ]
     },
     "metadata": {
      "needs_background": "light"
     },
     "output_type": "display_data"
    },
    {
     "data": {
      "text/plain": [
       "<matplotlib.axes._subplots.AxesSubplot at 0x1a2c2c5690>"
      ]
     },
     "execution_count": 102,
     "metadata": {},
     "output_type": "execute_result"
    },
    {
     "data": {
      "image/png": "[encoded data removed]",
      "text/plain": [
       "<Figure size 720x360 with 1 Axes>"
      ]
     },
     "metadata": {
      "needs_background": "light"
     },
     "output_type": "display_data"
    }
   ],
   "source": [
    "\n",
    "# Data Analysis\n",
    "NumFemale1=len(ht[(ht['sex']==0)&(ht['target']==1)])\n",
    "NumMale1=len(ht[(ht['sex']==1)&(ht['target']==1)])\n",
    "total0 = [NumFemale1,NumMale1]\n",
    "xs0=('Female with heart disease', 'Male with heart disease')\n",
    "len0 = np.arange(len(xs0))\n",
    "plt.bar(len0, total0,color=('blue', 'orange'))\n",
    "plt.xticks(len0, xs0)\n",
    "plt.show()\n",
    "\n",
    "\n",
    "NumHighPressure=len(ht[(ht['trestbps']>=140)&(ht['target']==1)])\n",
    "NumNormalPressure=len(ht[(ht['trestbps']<140)&(ht['target']==1)])\n",
    "total1 = [NumHighPressure,NumNormalPressure]\n",
    "xs1=('Female with heart disease', 'Male with heart disease')\n",
    "len1 = np.arange(len(xs1))\n",
    "plt.bar(len1, total1,color=('blue', 'orange'))\n",
    "plt.xticks(len1, xs1)\n",
    "plt.show()\n",
    "\n",
    "HighSerumCholesterol=len(ht[(ht['chol']>=200)&(ht['target']==1)])\n",
    "NormalSerumCholesterol=len(ht[(ht['trestbps']<200)&(ht['target']==1)])\n",
    "total2 = [HighSerumCholesterol,NormalSerumCholesterol]\n",
    "xs2=('High Serum Cholesterol', 'Normal Serum Cholesterol')\n",
    "len2 = np.arange(len(xs2))\n",
    "plt.bar(len2, total2,color=('blue', 'orange'))\n",
    "plt.xticks(len2, xs2)\n",
    "plt.show()\n",
    "\n",
    "HighBloodSugar=len(ht[(ht['fbs']==1)&(ht['target']==1)])\n",
    "NormalBloodSugar=len(ht[(ht['fbs']==0)&(ht['target']==1)])\n",
    "total3 = [HighBloodSugar,NormalBloodSugar]\n",
    "xs3=('High Blood Sugar', 'Normal Blood Sugar')\n",
    "len3 = np.arange(len(xs3))\n",
    "plt.bar(len3, total3,color=('blue', 'orange'))\n",
    "plt.xticks(len3, xs3)\n",
    "plt.show()\n",
    "\n",
    "ct = pd.crosstab(ht.age, ht.target)\n",
    "stack = ct.stack().reset_index().rename(columns={0:'Numbers'})\n",
    "plt.figure(figsize=(10,5))\n",
    "sns.barplot(x=stack.age, y=stack.Numbers, hue=stack.target)\n"
   ]
  },
  {
   "cell_type": "code",
   "execution_count": null,
   "metadata": {},
   "outputs": [],
   "source": []
  },
  {
   "cell_type": "code",
   "execution_count": 103,
   "metadata": {},
   "outputs": [],
   "source": [
    "features = ht[['age','sex','trestbps','chol','fbs','thalach','exang','ca','cp']]\n",
    "features = pd.get_dummies(features, columns=['sex','fbs','exang','ca','cp'])\n",
    "label = ht[['target']]\n",
    "features.head()\n",
    "#Spliting the dataset based on 80:20 ratio\n",
    "x_train, x_test, y_train, y_test = train_test_split(features, label, test_size=0.2, random_state=42)"
   ]
  },
  {
   "cell_type": "code",
   "execution_count": 104,
   "metadata": {},
   "outputs": [
    {
     "data": {
      "text/html": [
       "<div>\n",
       "<style scoped>\n",
       "    .dataframe tbody tr th:only-of-type {\n",
       "        vertical-align: middle;\n",
       "    }\n",
       "\n",
       "    .dataframe tbody tr th {\n",
       "        vertical-align: top;\n",
       "    }\n",
       "\n",
       "    .dataframe thead th {\n",
       "        text-align: right;\n",
       "    }\n",
       "</style>\n",
       "<table border=\"1\" class=\"dataframe\">\n",
       "  <thead>\n",
       "    <tr style=\"text-align: right;\">\n",
       "      <th></th>\n",
       "      <th>age</th>\n",
       "      <th>trestbps</th>\n",
       "      <th>chol</th>\n",
       "      <th>thalach</th>\n",
       "      <th>sex_0</th>\n",
       "      <th>sex_1</th>\n",
       "      <th>fbs_0</th>\n",
       "      <th>fbs_1</th>\n",
       "      <th>exang_0</th>\n",
       "      <th>exang_1</th>\n",
       "      <th>ca_0</th>\n",
       "      <th>ca_1</th>\n",
       "      <th>ca_2</th>\n",
       "      <th>ca_3</th>\n",
       "      <th>ca_4</th>\n",
       "      <th>cp_0</th>\n",
       "      <th>cp_1</th>\n",
       "      <th>cp_2</th>\n",
       "      <th>cp_3</th>\n",
       "    </tr>\n",
       "  </thead>\n",
       "  <tbody>\n",
       "    <tr>\n",
       "      <td>0</td>\n",
       "      <td>63</td>\n",
       "      <td>145</td>\n",
       "      <td>233</td>\n",
       "      <td>150</td>\n",
       "      <td>0</td>\n",
       "      <td>1</td>\n",
       "      <td>0</td>\n",
       "      <td>1</td>\n",
       "      <td>1</td>\n",
       "      <td>0</td>\n",
       "      <td>1</td>\n",
       "      <td>0</td>\n",
       "      <td>0</td>\n",
       "      <td>0</td>\n",
       "      <td>0</td>\n",
       "      <td>0</td>\n",
       "      <td>0</td>\n",
       "      <td>0</td>\n",
       "      <td>1</td>\n",
       "    </tr>\n",
       "    <tr>\n",
       "      <td>1</td>\n",
       "      <td>37</td>\n",
       "      <td>130</td>\n",
       "      <td>250</td>\n",
       "      <td>187</td>\n",
       "      <td>0</td>\n",
       "      <td>1</td>\n",
       "      <td>1</td>\n",
       "      <td>0</td>\n",
       "      <td>1</td>\n",
       "      <td>0</td>\n",
       "      <td>1</td>\n",
       "      <td>0</td>\n",
       "      <td>0</td>\n",
       "      <td>0</td>\n",
       "      <td>0</td>\n",
       "      <td>0</td>\n",
       "      <td>0</td>\n",
       "      <td>1</td>\n",
       "      <td>0</td>\n",
       "    </tr>\n",
       "    <tr>\n",
       "      <td>2</td>\n",
       "      <td>41</td>\n",
       "      <td>130</td>\n",
       "      <td>204</td>\n",
       "      <td>172</td>\n",
       "      <td>1</td>\n",
       "      <td>0</td>\n",
       "      <td>1</td>\n",
       "      <td>0</td>\n",
       "      <td>1</td>\n",
       "      <td>0</td>\n",
       "      <td>1</td>\n",
       "      <td>0</td>\n",
       "      <td>0</td>\n",
       "      <td>0</td>\n",
       "      <td>0</td>\n",
       "      <td>0</td>\n",
       "      <td>1</td>\n",
       "      <td>0</td>\n",
       "      <td>0</td>\n",
       "    </tr>\n",
       "    <tr>\n",
       "      <td>3</td>\n",
       "      <td>56</td>\n",
       "      <td>120</td>\n",
       "      <td>236</td>\n",
       "      <td>178</td>\n",
       "      <td>0</td>\n",
       "      <td>1</td>\n",
       "      <td>1</td>\n",
       "      <td>0</td>\n",
       "      <td>1</td>\n",
       "      <td>0</td>\n",
       "      <td>1</td>\n",
       "      <td>0</td>\n",
       "      <td>0</td>\n",
       "      <td>0</td>\n",
       "      <td>0</td>\n",
       "      <td>0</td>\n",
       "      <td>1</td>\n",
       "      <td>0</td>\n",
       "      <td>0</td>\n",
       "    </tr>\n",
       "    <tr>\n",
       "      <td>4</td>\n",
       "      <td>57</td>\n",
       "      <td>120</td>\n",
       "      <td>354</td>\n",
       "      <td>163</td>\n",
       "      <td>1</td>\n",
       "      <td>0</td>\n",
       "      <td>1</td>\n",
       "      <td>0</td>\n",
       "      <td>0</td>\n",
       "      <td>1</td>\n",
       "      <td>1</td>\n",
       "      <td>0</td>\n",
       "      <td>0</td>\n",
       "      <td>0</td>\n",
       "      <td>0</td>\n",
       "      <td>1</td>\n",
       "      <td>0</td>\n",
       "      <td>0</td>\n",
       "      <td>0</td>\n",
       "    </tr>\n",
       "  </tbody>\n",
       "</table>\n",
       "</div>"
      ],
      "text/plain": [
       "   age  trestbps  chol  thalach  sex_0  sex_1  fbs_0  fbs_1  exang_0  exang_1  \\\n",
       "0   63       145   233      150      0      1      0      1        1        0   \n",
       "1   37       130   250      187      0      1      1      0        1        0   \n",
       "2   41       130   204      172      1      0      1      0        1        0   \n",
       "3   56       120   236      178      0      1      1      0        1        0   \n",
       "4   57       120   354      163      1      0      1      0        0        1   \n",
       "\n",
       "   ca_0  ca_1  ca_2  ca_3  ca_4  cp_0  cp_1  cp_2  cp_3  \n",
       "0     1     0     0     0     0     0     0     0     1  \n",
       "1     1     0     0     0     0     0     0     1     0  \n",
       "2     1     0     0     0     0     0     1     0     0  \n",
       "3     1     0     0     0     0     0     1     0     0  \n",
       "4     1     0     0     0     0     1     0     0     0  "
      ]
     },
     "execution_count": 104,
     "metadata": {},
     "output_type": "execute_result"
    }
   ],
   "source": [
    "features.head()"
   ]
  },
  {
   "cell_type": "code",
   "execution_count": 105,
   "metadata": {},
   "outputs": [
    {
     "name": "stdout",
     "output_type": "stream",
     "text": [
      "The accuracy score of Logistic Regression Model: 0.5081967213114754\n"
     ]
    },
    {
     "name": "stderr",
     "output_type": "stream",
     "text": [
      "/Users/linzhisong/opt/anaconda3/lib/python3.7/site-packages/sklearn/utils/validation.py:724: DataConversionWarning: A column-vector y was passed when a 1d array was expected. Please change the shape of y to (n_samples, ), for example using ravel().\n",
      "  y = column_or_1d(y, warn=True)\n"
     ]
    }
   ],
   "source": [
    "# Implement Logistic Regression model\n",
    "#Training phase\n",
    "start1a = time.time()\n",
    "logistic_regression_model = SGDClassifier(loss = 'log', max_iter  =10000, tol = 0.0001, random_state = 34)\n",
    "logistic_regression_model.fit(x_train,y_train)\n",
    "stop1a = time.time()\n",
    "train_time1 = stop1a - start1a\n",
    "#Predicting phase\n",
    "start1b = time.time()\n",
    "y_pred3 = logistic_regression_model.predict(x_test)\n",
    "stop1b = time.time()\n",
    "pred_time1 = stop1b - start1b\n",
    "print(f\"The accuracy score of Logistic Regression Model: {accuracy_score(y_test,y_pred3)}\")"
   ]
  },
  {
   "cell_type": "code",
   "execution_count": 106,
   "metadata": {},
   "outputs": [
    {
     "data": {
      "image/png": "[encoded data removed]",
      "text/plain": [
       "<Figure size 432x288 with 2 Axes>"
      ]
     },
     "metadata": {
      "needs_background": "light"
     },
     "output_type": "display_data"
    },
    {
     "name": "stdout",
     "output_type": "stream",
     "text": [
      "Sensitivity for Decision Tree Model:  0.71875\n",
      "Specificity for Decision Tree Model:  0.7931034482758621\n",
      "false alarms for Decision Tree Model:  0.20689655172413793\n",
      "Recall for Decision Tree Model:  0.71875\n"
     ]
    },
    {
     "data": {
      "image/png": "[encoded data removed]",
      "text/plain": [
       "<Figure size 360x360 with 1 Axes>"
      ]
     },
     "metadata": {
      "needs_background": "light"
     },
     "output_type": "display_data"
    },
    {
     "name": "stdout",
     "output_type": "stream",
     "text": [
      "AUC :  0.755926724137931\n"
     ]
    }
   ],
   "source": [
    "# Implement Decision Tree Classifier\n",
    "#Training phase\n",
    "start2a = time.time()\n",
    "model = DecisionTreeClassifier()\n",
    "model.fit(x_train, y_train)\n",
    "stop2a = time.time()\n",
    "train_time2 = stop2a - start2a\n",
    "#Predicting phase\n",
    "start2b = time.time()\n",
    "y_pred0 = model.predict(x_test)\n",
    "stop2b = time.time()\n",
    "pred_time2 = stop2b - start2b\n",
    "confusion_matrix0 = confusion_matrix(y_test.values, y_pred0)\n",
    "sns.heatmap(confusion_matrix0,annot=True)\n",
    "plt.show()\n",
    "sensitivity = confusion_matrix0[0,0]/(confusion_matrix0[0,0]+confusion_matrix0[1,0])\n",
    "print('Sensitivity for Decision Tree Model: ', sensitivity )\n",
    "specificity = confusion_matrix0[1,1]/(confusion_matrix0[1,1]+confusion_matrix0[0,1])\n",
    "print('Specificity for Decision Tree Model: ', specificity)\n",
    "FalseAlarms = confusion_matrix0[0,1]/(confusion_matrix0[0,1]+confusion_matrix0[0,0])\n",
    "print('false alarms for Decision Tree Model: ', FalseAlarms )\n",
    "Recall = confusion_matrix0[1,1]/(confusion_matrix0[1,1]+confusion_matrix0[1,0])\n",
    "print('Recall for Decision Tree Model: ', Recall)\n",
    "fpr, tpr,_ = roc_curve(y_test, y_pred0)\n",
    "plt.figure(figsize=(5,5))\n",
    "plt.title('ROC for Decision Tree')\n",
    "plt.plot(fpr, tpr)\n",
    "plt.plot([0, 1], [0, 1],linestyle='--')\n",
    "plt.ylabel('tpr')\n",
    "plt.xlabel('fpr')\n",
    "plt.show()\n",
    "print('AUC : ', auc(fpr, tpr) )"
   ]
  },
  {
   "cell_type": "code",
   "execution_count": 107,
   "metadata": {},
   "outputs": [
    {
     "name": "stdout",
     "output_type": "stream",
     "text": [
      "[0.12621282 0.09651463 0.1095877  0.11826291 0.0251866  0.03836127\n",
      " 0.01896355 0.01125085 0.05183113 0.05631295 0.08888114 0.0173437\n",
      " 0.02440332 0.01309482 0.01294764 0.14522847 0.00496104 0.02682674\n",
      " 0.01382871]\n"
     ]
    },
    {
     "name": "stderr",
     "output_type": "stream",
     "text": [
      "/Users/linzhisong/opt/anaconda3/lib/python3.7/site-packages/sklearn/ensemble/forest.py:245: FutureWarning: The default value of n_estimators will change from 10 in version 0.20 to 100 in 0.22.\n",
      "  \"10 in version 0.20 to 100 in 0.22.\", FutureWarning)\n",
      "/Users/linzhisong/opt/anaconda3/lib/python3.7/site-packages/ipykernel_launcher.py:5: DataConversionWarning: A column-vector y was passed when a 1d array was expected. Please change the shape of y to (n_samples,), for example using ravel().\n",
      "  \"\"\"\n"
     ]
    },
    {
     "data": {
      "image/png": "[encoded data removed]",
      "text/plain": [
       "<Figure size 1200x240 with 1 Axes>"
      ]
     },
     "metadata": {},
     "output_type": "display_data"
    }
   ],
   "source": [
    "# Implement Random Forest and feature importances\n",
    "#Training phase\n",
    "start3a = time.time()\n",
    "Forest_model = RandomForestClassifier()\n",
    "Forest_model.fit(x_train,y_train)\n",
    "stop3a = time.time()\n",
    "train_time3 = stop3a - start3a\n",
    "print(Forest_model.feature_importances_)\n",
    "plt.figure(num=None, figsize=(15, 3), dpi=80, facecolor='w', edgecolor='k')\n",
    "plt.bar(x_train.columns,Forest_model.feature_importances_)\n",
    "plt.xlabel('Feature Labels')\n",
    "plt.ylabel('Feature Importance')\n",
    "plt.title('Feature Importance comparison plot')\n",
    "plt.show()"
   ]
  },
  {
   "cell_type": "code",
   "execution_count": 108,
   "metadata": {},
   "outputs": [
    {
     "data": {
      "image/png": "[encoded data removed]",
      "text/plain": [
       "<Figure size 432x288 with 2 Axes>"
      ]
     },
     "metadata": {
      "needs_background": "light"
     },
     "output_type": "display_data"
    },
    {
     "name": "stdout",
     "output_type": "stream",
     "text": [
      "Sensitivity :  0.7575757575757576\n",
      "Specificity :  0.8571428571428571\n",
      "false alarms for Random Forest:  0.13793103448275862\n",
      "Recall for Random Forest:  0.75\n"
     ]
    },
    {
     "data": {
      "image/png": "[encoded data removed]",
      "text/plain": [
       "<Figure size 360x360 with 1 Axes>"
      ]
     },
     "metadata": {
      "needs_background": "light"
     },
     "output_type": "display_data"
    },
    {
     "name": "stdout",
     "output_type": "stream",
     "text": [
      "AUC(Accuracy Score) :  0.8060344827586207\n"
     ]
    }
   ],
   "source": [
    "#Predicting phase\n",
    "start3b = time.time()\n",
    "y_pred1 = Forest_model.predict(x_test)\n",
    "stop3b = time.time()\n",
    "pred_time3 = stop3b - start3b\n",
    "confusion_matrix1 = confusion_matrix(y_test.values, y_pred1)\n",
    "sns.heatmap(confusion_matrix1,annot=True)\n",
    "plt.show()\n",
    "sensitivity1 = confusion_matrix1[0,0]/(confusion_matrix1[0,0]+confusion_matrix1[1,0])\n",
    "print('Sensitivity : ', sensitivity1 )\n",
    "specificity1 = confusion_matrix1[1,1]/(confusion_matrix1[1,1]+confusion_matrix1[0,1])\n",
    "print('Specificity : ', specificity1)\n",
    "FalseAlarms1 = confusion_matrix1[0,1]/(confusion_matrix1[0,1]+confusion_matrix1[0,0])\n",
    "print('false alarms for Random Forest: ', FalseAlarms1 )\n",
    "Recall1 = confusion_matrix1[1,1]/(confusion_matrix1[1,1]+confusion_matrix1[1,0])\n",
    "print('Recall for Random Forest: ', Recall1)\n",
    "fpr1, tpr1,_ = roc_curve(y_test, y_pred1)\n",
    "plt.figure(figsize=(5,5))\n",
    "plt.title('ROC of Random Forest Classifier')\n",
    "plt.plot(fpr1, tpr1)\n",
    "plt.plot([0, 1], [0, 1],linestyle='--')\n",
    "plt.ylabel('tpr')\n",
    "plt.xlabel('fpr')\n",
    "plt.show()\n",
    "print('AUC(Accuracy Score) : ', auc(fpr1, tpr1) )"
   ]
  },
  {
   "cell_type": "code",
   "execution_count": 109,
   "metadata": {},
   "outputs": [
    {
     "name": "stderr",
     "output_type": "stream",
     "text": [
      "/Users/linzhisong/opt/anaconda3/lib/python3.7/site-packages/sklearn/ensemble/forest.py:245: FutureWarning: The default value of n_estimators will change from 10 in version 0.20 to 100 in 0.22.\n",
      "  \"10 in version 0.20 to 100 in 0.22.\", FutureWarning)\n",
      "/Users/linzhisong/opt/anaconda3/lib/python3.7/site-packages/ipykernel_launcher.py:5: DataConversionWarning: A column-vector y was passed when a 1d array was expected. Please change the shape of y to (n_samples,), for example using ravel().\n",
      "  \"\"\"\n"
     ]
    }
   ],
   "source": [
    "# Implement Extra Tree Classifier\n",
    "#Training phase\n",
    "start4a = time.time()\n",
    "Extra_model = ExtraTreesClassifier()\n",
    "Extra_model.fit(x_train,y_train)\n",
    "stop4a = time.time()\n",
    "train_time4 = stop4a - start4a"
   ]
  },
  {
   "cell_type": "code",
   "execution_count": 110,
   "metadata": {},
   "outputs": [
    {
     "data": {
      "image/png": "[encoded data removed]",
      "text/plain": [
       "<Figure size 432x288 with 2 Axes>"
      ]
     },
     "metadata": {
      "needs_background": "light"
     },
     "output_type": "display_data"
    },
    {
     "name": "stdout",
     "output_type": "stream",
     "text": [
      "Sensitivity :  0.7666666666666667\n",
      "Specificity :  0.8064516129032258\n",
      "false alarms for Extra Tree Classifier:  0.20689655172413793\n",
      "Recall for Extra Tree Classifier:  0.78125\n"
     ]
    },
    {
     "data": {
      "image/png": "[encoded data removed]",
      "text/plain": [
       "<Figure size 360x360 with 1 Axes>"
      ]
     },
     "metadata": {
      "needs_background": "light"
     },
     "output_type": "display_data"
    },
    {
     "name": "stdout",
     "output_type": "stream",
     "text": [
      "AUC(Accuracy Score) :  0.787176724137931\n"
     ]
    }
   ],
   "source": [
    "#Predicting phase\n",
    "start4b = time.time()\n",
    "y_pred2 = Extra_model.predict(x_test)\n",
    "stop4b = time.time()\n",
    "pred_time4 = stop4b - start4b\n",
    "confusion_matrix2 = confusion_matrix(y_test.values, y_pred2)\n",
    "sns.heatmap(confusion_matrix2,annot=True)\n",
    "plt.show()\n",
    "sensitivity2 = confusion_matrix2[0,0]/(confusion_matrix2[0,0]+confusion_matrix2[1,0])\n",
    "print('Sensitivity : ', sensitivity2 )\n",
    "specificity2 = confusion_matrix2[1,1]/(confusion_matrix2[1,1]+confusion_matrix2[0,1])\n",
    "print('Specificity : ', specificity2)\n",
    "FalseAlarms2 = confusion_matrix2[0,1]/(confusion_matrix2[0,1]+confusion_matrix2[0,0])\n",
    "print('false alarms for Extra Tree Classifier: ', FalseAlarms2 )\n",
    "Recall2 = confusion_matrix2[1,1]/(confusion_matrix2[1,1]+confusion_matrix2[1,0])\n",
    "print('Recall for Extra Tree Classifier: ', Recall2)\n",
    "fpr2, tpr2,_ = roc_curve(y_test, y_pred2)\n",
    "plt.figure(figsize=(5,5))\n",
    "plt.title('ROC of Extra Tree Classifier')\n",
    "plt.plot(fpr2, tpr2)\n",
    "plt.plot([0, 1], [0, 1],linestyle='--')\n",
    "plt.ylabel('tpr')\n",
    "plt.xlabel('fpr')\n",
    "plt.show()\n",
    "print('AUC(Accuracy Score) : ', auc(fpr2, tpr2) )"
   ]
  },
  {
   "cell_type": "code",
   "execution_count": 111,
   "metadata": {},
   "outputs": [
    {
     "name": "stdout",
     "output_type": "stream",
     "text": [
      "Training time used: \n",
      "Logistic Regression: 0.005864858627319336s\n",
      "Decision Tree Classifier: 0.011324167251586914s\n",
      "Random Forest: 0.04423403739929199s\n",
      "Extra Tree Classifier: 0.021250009536743164s\n",
      "Predicting time used: \n",
      "Logistic Regression: 0.0020101070404052734s\n",
      "Decision Tree Classifier: 0.002460002899169922s\n",
      "Random Forest: 0.0034101009368896484s\n",
      "Extra Tree Classifier: 0.005509138107299805s\n"
     ]
    }
   ],
   "source": [
    "#Time showing\n",
    "print(\"Training time used: \")\n",
    "print(f\"Logistic Regression: {train_time1}s\")\n",
    "print(f\"Decision Tree Classifier: {train_time2}s\")\n",
    "print(f\"Random Forest: {train_time3}s\")\n",
    "print(f\"Extra Tree Classifier: {train_time4}s\")\n",
    "print(\"Predicting time used: \")\n",
    "print(f\"Logistic Regression: {pred_time1}s\")\n",
    "print(f\"Decision Tree Classifier: {pred_time2}s\")\n",
    "print(f\"Random Forest: {pred_time3}s\")\n",
    "print(f\"Extra Tree Classifier: {pred_time4}s\")\n"
   ]
  },
  {
   "cell_type": "code",
   "execution_count": 112,
   "metadata": {},
   "outputs": [
    {
     "name": "stdout",
     "output_type": "stream",
     "text": [
      "MSE of different models\n",
      "Logistic Regression: 0.4918032786885246\n",
      "Decision Tree Classifier: 0.2459016393442623\n",
      "Random Forest: 0.19672131147540983\n",
      "ExtraTree Classifier: 0.21311475409836064\n"
     ]
    }
   ],
   "source": [
    "print(\"MSE of different models\")\n",
    "print(f\"Logistic Regression: {mean_squared_error(y_test, y_pred3)}\")\n",
    "print(f\"Decision Tree Classifier: {mean_squared_error(y_test, y_pred0)}\")\n",
    "print(f\"Random Forest: {mean_squared_error(y_test, y_pred1)}\")\n",
    "print(f\"ExtraTree Classifier: {mean_squared_error(y_test, y_pred2)}\")"
   ]
  },
  {
   "cell_type": "code",
   "execution_count": 113,
   "metadata": {},
   "outputs": [
    {
     "data": {
      "text/html": [
       "<div>\n",
       "<style scoped>\n",
       "    .dataframe tbody tr th:only-of-type {\n",
       "        vertical-align: middle;\n",
       "    }\n",
       "\n",
       "    .dataframe tbody tr th {\n",
       "        vertical-align: top;\n",
       "    }\n",
       "\n",
       "    .dataframe thead th {\n",
       "        text-align: right;\n",
       "    }\n",
       "</style>\n",
       "<table border=\"1\" class=\"dataframe\">\n",
       "  <thead>\n",
       "    <tr style=\"text-align: right;\">\n",
       "      <th></th>\n",
       "      <th>age</th>\n",
       "      <th>sex</th>\n",
       "      <th>cp</th>\n",
       "      <th>trestbps</th>\n",
       "      <th>chol</th>\n",
       "      <th>fbs</th>\n",
       "      <th>restecg</th>\n",
       "      <th>thalach</th>\n",
       "      <th>exang</th>\n",
       "      <th>oldpeak</th>\n",
       "      <th>slope</th>\n",
       "      <th>ca</th>\n",
       "      <th>thal</th>\n",
       "      <th>target</th>\n",
       "    </tr>\n",
       "  </thead>\n",
       "  <tbody>\n",
       "    <tr>\n",
       "      <td>0</td>\n",
       "      <td>63</td>\n",
       "      <td>1</td>\n",
       "      <td>3</td>\n",
       "      <td>145</td>\n",
       "      <td>233</td>\n",
       "      <td>1</td>\n",
       "      <td>0</td>\n",
       "      <td>150</td>\n",
       "      <td>0</td>\n",
       "      <td>2.3</td>\n",
       "      <td>0</td>\n",
       "      <td>0</td>\n",
       "      <td>1</td>\n",
       "      <td>1</td>\n",
       "    </tr>\n",
       "    <tr>\n",
       "      <td>1</td>\n",
       "      <td>37</td>\n",
       "      <td>1</td>\n",
       "      <td>2</td>\n",
       "      <td>130</td>\n",
       "      <td>250</td>\n",
       "      <td>0</td>\n",
       "      <td>1</td>\n",
       "      <td>187</td>\n",
       "      <td>0</td>\n",
       "      <td>3.5</td>\n",
       "      <td>0</td>\n",
       "      <td>0</td>\n",
       "      <td>2</td>\n",
       "      <td>1</td>\n",
       "    </tr>\n",
       "    <tr>\n",
       "      <td>2</td>\n",
       "      <td>41</td>\n",
       "      <td>0</td>\n",
       "      <td>1</td>\n",
       "      <td>130</td>\n",
       "      <td>204</td>\n",
       "      <td>0</td>\n",
       "      <td>0</td>\n",
       "      <td>172</td>\n",
       "      <td>0</td>\n",
       "      <td>1.4</td>\n",
       "      <td>2</td>\n",
       "      <td>0</td>\n",
       "      <td>2</td>\n",
       "      <td>1</td>\n",
       "    </tr>\n",
       "    <tr>\n",
       "      <td>3</td>\n",
       "      <td>56</td>\n",
       "      <td>1</td>\n",
       "      <td>1</td>\n",
       "      <td>120</td>\n",
       "      <td>236</td>\n",
       "      <td>0</td>\n",
       "      <td>1</td>\n",
       "      <td>178</td>\n",
       "      <td>0</td>\n",
       "      <td>0.8</td>\n",
       "      <td>2</td>\n",
       "      <td>0</td>\n",
       "      <td>2</td>\n",
       "      <td>1</td>\n",
       "    </tr>\n",
       "    <tr>\n",
       "      <td>4</td>\n",
       "      <td>57</td>\n",
       "      <td>0</td>\n",
       "      <td>0</td>\n",
       "      <td>120</td>\n",
       "      <td>354</td>\n",
       "      <td>0</td>\n",
       "      <td>1</td>\n",
       "      <td>163</td>\n",
       "      <td>1</td>\n",
       "      <td>0.6</td>\n",
       "      <td>2</td>\n",
       "      <td>0</td>\n",
       "      <td>2</td>\n",
       "      <td>1</td>\n",
       "    </tr>\n",
       "  </tbody>\n",
       "</table>\n",
       "</div>"
      ],
      "text/plain": [
       "   age  sex  cp  trestbps  chol  fbs  restecg  thalach  exang  oldpeak  slope  \\\n",
       "0   63    1   3       145   233    1        0      150      0      2.3      0   \n",
       "1   37    1   2       130   250    0        1      187      0      3.5      0   \n",
       "2   41    0   1       130   204    0        0      172      0      1.4      2   \n",
       "3   56    1   1       120   236    0        1      178      0      0.8      2   \n",
       "4   57    0   0       120   354    0        1      163      1      0.6      2   \n",
       "\n",
       "   ca  thal  target  \n",
       "0   0     1       1  \n",
       "1   0     2       1  \n",
       "2   0     2       1  \n",
       "3   0     2       1  \n",
       "4   0     2       1  "
      ]
     },
     "execution_count": 113,
     "metadata": {},
     "output_type": "execute_result"
    }
   ],
   "source": [
    "ht.head()"
   ]
  }
 ],
 "metadata": {
  "kernelspec": {
   "display_name": "Python 3",
   "language": "python",
   "name": "python3"
  },
  "language_info": {
   "codemirror_mode": {
    "name": "ipython",
    "version": 3
   },
   "file_extension": ".py",
   "mimetype": "text/x-python",
   "name": "python",
   "nbconvert_exporter": "python",
   "pygments_lexer": "ipython3",
   "version": "3.7.4"
  }
 },
 "nbformat": 4,
 "nbformat_minor": 2
}
